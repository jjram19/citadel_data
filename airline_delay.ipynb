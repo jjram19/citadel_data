{
 "cells": [
  {
   "cell_type": "code",
   "execution_count": 146,
   "metadata": {},
   "outputs": [],
   "source": [
    "import csv\n",
    "import collections\n",
    "import numpy as np\n",
    "from datetime import datetime, timedelta\n",
    "from scipy import stats"
   ]
  },
  {
   "cell_type": "code",
   "execution_count": 102,
   "metadata": {},
   "outputs": [],
   "source": [
    "event_data = []\n",
    "dates = set([])\n",
    "with open(\"/Users/charlesvidrine/data/events_US.csv\", 'rU') as events:\n",
    "    reader = csv.reader(events)\n",
    "    reader.next()\n",
    "    for row in reader:\n",
    "        date = row[0]\n",
    "        elems = date.split(\"/\")\n",
    "        date_ = \"\"\n",
    "        for elem in elems:\n",
    "            if len(elem) == 1:\n",
    "                elem = '0' + elem\n",
    "            date_ = date_ + elem + \"/\"\n",
    "        date_ = date_[:len(date_) - 1]\n",
    "        if len(date_) == 8:\n",
    "            try:\n",
    "                date_tuple = tuple([datetime.strptime(date_, \"%d/%m/%y\"), row[1]])\n",
    "                dates.add(date_tuple)\n",
    "            except:\n",
    "                continue\n",
    "#                 dates.add(datetime.strptime(date_, \"%d/%m/%y\") - timedelta(days=1))\n",
    "# #                 dates.add(datetime.strptime(date_, \"%d/%m/%y\") + timedelta(days=1))\n",
    "        else:\n",
    "            try:\n",
    "                date_tuple = tuple([datetime.strptime(date_, \"%d/%m/%y\"), row[1]])\n",
    "                dates.add(date_tuple)\n",
    "            except:\n",
    "                continue\n",
    "#                 dates.add(datetime.strptime(date_, \"%d/%m/%Y\") - timedelta(days=1))\n",
    "#                 dates.add(datetime.strptime(date_, \"%d/%m/%Y\") + timedelta(days=1))\n",
    "            \n",
    "    "
   ]
  },
  {
   "cell_type": "code",
   "execution_count": 141,
   "metadata": {},
   "outputs": [],
   "source": [
    "airport_id, city, state = 0, 2, 3\n",
    "id_to_city = collections.defaultdict(str)\n",
    "with open('/Users/charlesvidrine/data/airports.csv', 'rU') as airports:\n",
    "    reader = csv.reader(airports)\n",
    "    headers = next(reader)\n",
    "    for row in reader:\n",
    "        id_to_city[row[airport_id]] = row[city]\n",
    "        \n",
    "def GetCity(airport_code):\n",
    "    return id_to_city[airport_code]\n",
    "\n",
    "airports = [\"MDW\", \"JFK\", \"LGA\", \"EWR\", \"LAX\", \"ONT\", \"SNA\", \"BUR\", \"ORD\", \"MDW\", \"DAL\", \"DFW\", \"IAH\", \"HOU\", \"IAD\", \"DCA\", \"BWI\", \"MIA\", \"FLL\", \"PBI\", \"PHL\", \"ATL\", \"BOS\"]\n",
    "delay_map = collections.defaultdict(lambda: collections.defaultdict(list))\n",
    "with open(\"/Users/charlesvidrine/data/elapsed_df.csv\") as flight_traffic:\n",
    "    reader = csv.reader(flight_traffic)\n",
    "    for row in reader:\n",
    "        try:\n",
    "            float(row[25])\n",
    "        except ValueError:\n",
    "            continue\n",
    "        if len(row[2]) == 1:\n",
    "            row[2] = '0' + row[2]\n",
    "        if len(row[1]) == 1:\n",
    "            row[1] = '0' + row[1]\n",
    "        date = datetime.strptime(row[3] + \"/\" + row[2] + \"/\" + row[1], \"%d/%m/%Y\")\n",
    "        if len(row[25]) != 0 and not (((date, GetCity(row[5])) in dates) or (date, GetCity(row[6])) in dates):\n",
    "            delay_map[row[4]][date].append(float(row[25]))\n",
    "            \n",
    "    "
   ]
  },
  {
   "cell_type": "code",
   "execution_count": 142,
   "metadata": {},
   "outputs": [],
   "source": [
    "delay_map_means1 = collections.defaultdict(lambda: collections.defaultdict(float))\n",
    "for key in delay_map:\n",
    "    for list_ in delay_map[key]:\n",
    "        delay_map_means1[key][list_] = np.mean(delay_map[key][list_])\n",
    "        \n",
    "        "
   ]
  },
  {
   "cell_type": "code",
   "execution_count": 157,
   "metadata": {},
   "outputs": [
    {
     "name": "stdout",
     "output_type": "stream",
     "text": [
      "AA\n",
      "848021\n",
      "OO\n",
      "678201\n",
      "DL\n",
      "869799\n",
      "HA\n",
      "79189\n",
      "F9\n",
      "99128\n",
      "AS\n",
      "179136\n",
      "B6\n",
      "268075\n",
      "NK\n",
      "144867\n",
      "WN\n",
      "1269667\n",
      "VX\n",
      "63769\n",
      "EV\n",
      "319809\n",
      "UA\n",
      "558844\n"
     ]
    }
   ],
   "source": [
    "no_event_data = []\n",
    "delay_map_means2 = collections.defaultdict(list)\n",
    "for key in delay_map:\n",
    "    print key\n",
    "    total=0\n",
    "    for list_ in delay_map[key]:\n",
    "        total+=len(delay_map[key][list_])\n",
    "        delay_map_means2[key].append(np.mean(delay_map[key][list_]))\n",
    "    print total\n",
    "        \n",
    "delay_airline_means = collections.defaultdict(int)\n",
    "for key in delay_map_means2:\n",
    "    event_data.append(delay_map_means2[key])\n",
    "    delay_airline_means[key] = np.std(delay_map_means2[key])"
   ]
  },
  {
   "cell_type": "code",
   "execution_count": 125,
   "metadata": {},
   "outputs": [
    {
     "data": {
      "text/plain": [
       "defaultdict(int,\n",
       "            {'AA': 10.824098629072505,\n",
       "             'AS': 3.71687887005535,\n",
       "             'B6': 20.447888182139184,\n",
       "             'DL': 16.06219298127549,\n",
       "             'EV': 19.895202086839802,\n",
       "             'F9': 17.207652858525126,\n",
       "             'HA': 4.334985847485847,\n",
       "             'NK': 14.613684466190458,\n",
       "             'OO': 14.90492037743475,\n",
       "             'UA': 12.19731234051152,\n",
       "             'VX': 14.373037385162824,\n",
       "             'WN': 12.848794460033215})"
      ]
     },
     "execution_count": 125,
     "metadata": {},
     "output_type": "execute_result"
    }
   ],
   "source": [
    "delay_airline_means #With Event"
   ]
  },
  {
   "cell_type": "code",
   "execution_count": 129,
   "metadata": {},
   "outputs": [
    {
     "data": {
      "text/plain": [
       "defaultdict(int,\n",
       "            {'AA': 7.908411386822841,\n",
       "             'AS': 2.8821115983589203,\n",
       "             'B6': 16.338838284841778,\n",
       "             'DL': 8.55902836870599,\n",
       "             'EV': 11.7949420542732,\n",
       "             'F9': 12.768130012069562,\n",
       "             'HA': 1.3904215276970038,\n",
       "             'NK': 10.539616451347877,\n",
       "             'OO': 10.086181758146353,\n",
       "             'UA': 9.41524249206131,\n",
       "             'VX': 13.542160704470936,\n",
       "             'WN': 9.996619970952503})"
      ]
     },
     "execution_count": 129,
     "metadata": {},
     "output_type": "execute_result"
    }
   ],
   "source": [
    "delay_airline_means #With no Event"
   ]
  },
  {
   "cell_type": "code",
   "execution_count": 131,
   "metadata": {},
   "outputs": [
    {
     "data": {
      "text/plain": [
       "defaultdict(int,\n",
       "            {'AA': 6.281113235644872,\n",
       "             'AS': 7.150947449109138,\n",
       "             'B6': 15.958093291324754,\n",
       "             'DL': 13.819772648390602,\n",
       "             'EV': 9.873686503073431,\n",
       "             'F9': 9.883501284212006,\n",
       "             'HA': 6.385802049539686,\n",
       "             'NK': 9.924169315365017,\n",
       "             'OO': 7.34157179448326,\n",
       "             'UA': 8.024145659497782,\n",
       "             'VX': 14.99249478656366,\n",
       "             'WN': 6.459520422450286})"
      ]
     },
     "execution_count": 131,
     "metadata": {},
     "output_type": "execute_result"
    }
   ],
   "source": [
    "delay_airline_means #with no event"
   ]
  },
  {
   "cell_type": "code",
   "execution_count": 135,
   "metadata": {},
   "outputs": [
    {
     "data": {
      "text/plain": [
       "defaultdict(int,\n",
       "            {'AA': 11.18317997029387,\n",
       "             'AS': 9.831432298540705,\n",
       "             'B6': 23.29898370658462,\n",
       "             'DL': 25.55105869814888,\n",
       "             'EV': 26.28067085388276,\n",
       "             'F9': 27.55925615800656,\n",
       "             'HA': 12.631012594578474,\n",
       "             'NK': 21.628616579716912,\n",
       "             'OO': 30.861637285978176,\n",
       "             'UA': 18.564659214619276,\n",
       "             'VX': 19.287273413573754,\n",
       "             'WN': 11.955909402919682})"
      ]
     },
     "execution_count": 135,
     "metadata": {},
     "output_type": "execute_result"
    }
   ],
   "source": [
    "delay_airline_means #with event"
   ]
  },
  {
   "cell_type": "code",
   "execution_count": 155,
   "metadata": {},
   "outputs": [
    {
     "name": "stdout",
     "output_type": "stream",
     "text": [
      "AA 365\n",
      "OO 365\n",
      "DL 365\n",
      "NK 365\n",
      "HA 365\n",
      "F9 365\n",
      "AS 365\n",
      "B6 365\n",
      "WN 365\n",
      "VX 365\n",
      "EV 365\n",
      "UA 365\n"
     ]
    }
   ],
   "source": [
    "for key in delay_airline_means:\n",
    "    print key, len(delay_map_means1[key])"
   ]
  },
  {
   "cell_type": "code",
   "execution_count": null,
   "metadata": {},
   "outputs": [],
   "source": []
  }
 ],
 "metadata": {
  "kernelspec": {
   "display_name": "Python 2",
   "language": "python",
   "name": "python2"
  },
  "language_info": {
   "codemirror_mode": {
    "name": "ipython",
    "version": 2
   },
   "file_extension": ".py",
   "mimetype": "text/x-python",
   "name": "python",
   "nbconvert_exporter": "python",
   "pygments_lexer": "ipython2",
   "version": "2.7.14"
  }
 },
 "nbformat": 4,
 "nbformat_minor": 2
}

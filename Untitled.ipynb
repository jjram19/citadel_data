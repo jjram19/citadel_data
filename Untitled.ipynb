{
 "cells": [
  {
   "cell_type": "code",
   "execution_count": 1,
   "metadata": {},
   "outputs": [],
   "source": [
    "import csv\n",
    "import numpy as np\n",
    "from collections import defaultdict"
   ]
  },
  {
   "cell_type": "code",
   "execution_count": 6,
   "metadata": {},
   "outputs": [],
   "source": [
    "quarter, airline_id, origin_airport, destination_airport, distance = 0, 1, 2, 3, 4\n",
    "with open(\"/Users/charlesvidrine/data/fares.csv\") as fares:\n",
    "    reader = csv.reader(fares)\n",
    "    headers = next(reader)\n",
    "    distance_map = defaultdict(int)\n",
    "    for row in reader:\n",
    "        city_tuple = tuple(sorted((row[origin_airport], row[destination_airport])))\n",
    "        distance_map[city_tuple] = row[distance]"
   ]
  },
  {
   "cell_type": "code",
   "execution_count": null,
   "metadata": {},
   "outputs": [],
   "source": [
    "def WriteData(filename, data):\n",
    "    with open(filename, w) as f:\n",
    "        writer = csv.writer(f)\n",
    "        for row in data:\n",
    "            writer.append(row)\n",
    "csv_data = []\n",
    "csv_data.append(['City 1', 'City 2', 'Distance'])\n",
    "for key, distance in distance_map.iteritems():\n",
    "    csv_data.append(key[0], key[1], distance)\n",
    "WriteData('')"
   ]
  }
 ],
 "metadata": {
  "kernelspec": {
   "display_name": "Python 2",
   "language": "python",
   "name": "python2"
  },
  "language_info": {
   "codemirror_mode": {
    "name": "ipython",
    "version": 2
   },
   "file_extension": ".py",
   "mimetype": "text/x-python",
   "name": "python",
   "nbconvert_exporter": "python",
   "pygments_lexer": "ipython2",
   "version": "2.7.14"
  }
 },
 "nbformat": 4,
 "nbformat_minor": 2
}

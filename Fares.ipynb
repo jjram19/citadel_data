{
 "cells": [
  {
   "cell_type": "code",
   "execution_count": 30,
   "metadata": {},
   "outputs": [],
   "source": [
    "import csv\n",
    "import numpy as np\n",
    "from collections import defaultdict"
   ]
  },
  {
   "cell_type": "code",
   "execution_count": 31,
   "metadata": {},
   "outputs": [],
   "source": [
    "quarter, airline_id, origin_airport, destination_airport, distance = 0, 1, 2, 3, 4"
   ]
  },
  {
   "cell_type": "code",
   "execution_count": 32,
   "metadata": {},
   "outputs": [],
   "source": [
    "with open(\"/Users/charlesvidrine/data/fares.csv\") as fares:\n",
    "    reader = csv.reader(fares)\n",
    "    headers = next(reader)\n",
    "    distance_map = defaultdict(int)\n",
    "    for row in reader:\n",
    "        city_pair = tuple(sorted((row[origin_airport], row[destination_airport])))\n",
    "        distance_map[city_pair] = row[distance]\n",
    "    csv_data = []\n",
    "    csv_data.append(['City 1', 'City 2', 'Distance'])\n",
    "    for key, distance in distance_map:\n",
    "        first_city, second_city = key[0], key[1]\n",
    "        csv_data.append([first_city, second_city, distance])\n",
    "    with open(\"airport_distances.csv\", 'w') as distances:\n",
    "        writer = csv.writer(distances)\n",
    "        for row in csv_data:\n",
    "            writer.writerow(row)\n",
    "    "
   ]
  },
  {
   "cell_type": "code",
   "execution_count": null,
   "metadata": {},
   "outputs": [],
   "source": []
  }
 ],
 "metadata": {
  "kernelspec": {
   "display_name": "Python 2",
   "language": "python",
   "name": "python2"
  },
  "language_info": {
   "codemirror_mode": {
    "name": "ipython",
    "version": 2
   },
   "file_extension": ".py",
   "mimetype": "text/x-python",
   "name": "python",
   "nbconvert_exporter": "python",
   "pygments_lexer": "ipython2",
   "version": "2.7.14"
  }
 },
 "nbformat": 4,
 "nbformat_minor": 2
}

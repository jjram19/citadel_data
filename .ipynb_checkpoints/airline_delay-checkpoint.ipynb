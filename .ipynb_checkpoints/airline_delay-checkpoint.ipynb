{
 "cells": [
  {
   "cell_type": "code",
   "execution_count": 92,
   "metadata": {},
   "outputs": [],
   "source": [
    "import csv\n",
    "import collections\n",
    "import numpy as np\n",
    "from datetime import datetime, timedelta"
   ]
  },
  {
   "cell_type": "code",
   "execution_count": 93,
   "metadata": {},
   "outputs": [],
   "source": [
    "dates = set([])\n",
    "with open(\"/Users/charlesvidrine/data/events_US.csv\", 'rU') as events:\n",
    "    reader = csv.reader(events)\n",
    "    reader.next()\n",
    "    for row in reader:\n",
    "        date = row[0]\n",
    "        elems = date.split(\"/\")\n",
    "        date_ = \"\"\n",
    "        for elem in elems:\n",
    "            if len(elem) == 1:\n",
    "                elem = '0' + elem\n",
    "            date_ = date_ + elem + \"/\"\n",
    "        date_ = date_[:len(date_) - 1]\n",
    "        if len(date_) == 8:\n",
    "            dates.add(datetime.strptime(date_, \"%d/%m/%y\"))\n",
    "#                 dates.add(datetime.strptime(date_, \"%d/%m/%y\") - timedelta(days=1))\n",
    "# #                 dates.add(datetime.strptime(date_, \"%d/%m/%y\") + timedelta(days=1))\n",
    "        else:\n",
    "            dates.add(datetime.strptime(date_, \"%d/%m/%Y\"))\n",
    "#                 dates.add(datetime.strptime(date_, \"%d/%m/%Y\") - timedelta(days=1))\n",
    "#                 dates.add(datetime.strptime(date_, \"%d/%m/%Y\") + timedelta(days=1))\n",
    "            \n",
    "    "
   ]
  },
  {
   "cell_type": "code",
   "execution_count": 94,
   "metadata": {},
   "outputs": [],
   "source": [
    "airports = [\"MDW\", \"JFK\", \"LGA\", \"EWR\", \"LAX\", \"ONT\", \"SNA\", \"BUR\", \"ORD\", \"MDW\", \"DAL\", \"DFW\", \"IAH\", \"HOU\", \"IAD\", \"DCA\", \"BWI\", \"MIA\", \"FLL\", \"PBI\", \"PHL\", \"ATL\", \"BOS\"]\n",
    "delay_map = collections.defaultdict(lambda: collections.defaultdict(list))\n",
    "with open(\"/Users/charlesvidrine/data/elapsed_df.csv\") as flight_traffic:\n",
    "    reader = csv.reader(flight_traffic)\n",
    "    for row in reader:\n",
    "        try:\n",
    "            float(row[25])\n",
    "        except ValueError:\n",
    "            continue\n",
    "        if len(row[2]) == 1:\n",
    "            row[2] = '0' + row[2]\n",
    "        if len(row[1]) == 1:\n",
    "            row[1] = '0' + row[1]\n",
    "        date = datetime.strptime(row[3] + \"/\" + row[2] + \"/\" + row[1], \"%d/%m/%Y\")\n",
    "        if len(row[25]) != 0 and date in dates:\n",
    "            if row[5] in airports:\n",
    "                delay_map[row[4]][date].append(float(row[25]))\n",
    "            if row[6] in airports:\n",
    "                delay_map[row[4]][date].append(float(row[25]))\n",
    "            \n",
    "    "
   ]
  },
  {
   "cell_type": "code",
   "execution_count": 95,
   "metadata": {},
   "outputs": [],
   "source": [
    "delay_map_means1 = collections.defaultdict(lambda: collections.defaultdict(float))\n",
    "for key in delay_map:\n",
    "    for list_ in delay_map[key]:\n",
    "        delay_map_means1[key][list_] = np.mean(delay_map[key][list_])\n",
    "        \n",
    "        "
   ]
  },
  {
   "cell_type": "code",
   "execution_count": 96,
   "metadata": {},
   "outputs": [],
   "source": [
    "delay_map_means2 = collections.defaultdict(list)\n",
    "for key in delay_map:\n",
    "    for list_ in delay_map[key]:\n",
    "        delay_map_means2[key].append(delay_map_means1[key][list_])\n",
    "        \n",
    "delay_airline_means = collections.defaultdict(int)\n",
    "for key in delay_map_means:\n",
    "    delay_airline_means[key] = np.mean(delay_map_means2[key])"
   ]
  },
  {
   "cell_type": "code",
   "execution_count": 97,
   "metadata": {},
   "outputs": [
    {
     "data": {
      "text/plain": [
       "defaultdict(int,\n",
       "            {'AA': 12.300707589238673,\n",
       "             'AS': 2.9019337016574585,\n",
       "             'B6': 16.74505516601303,\n",
       "             'DL': 15.973661406364426,\n",
       "             'HA': 11.804597701149426,\n",
       "             'VX': 12.35459032038681})"
      ]
     },
     "execution_count": 97,
     "metadata": {},
     "output_type": "execute_result"
    }
   ],
   "source": [
    "delay_airline_means"
   ]
  },
  {
   "cell_type": "code",
   "execution_count": 75,
   "metadata": {},
   "outputs": [
    {
     "data": {
      "text/plain": [
       "defaultdict(list,\n",
       "            {'DL': [8.794060665362034],\n",
       "             'EV': [25.65074906367041],\n",
       "             'OO': [10.462124849939977],\n",
       "             'WN': [10.877870986023783]})"
      ]
     },
     "execution_count": 75,
     "metadata": {},
     "output_type": "execute_result"
    }
   ],
   "source": []
  },
  {
   "cell_type": "code",
   "execution_count": 82,
   "metadata": {},
   "outputs": [
    {
     "data": {
      "text/plain": [
       "defaultdict(list,\n",
       "            {'AA': [12.402823445785847],\n",
       "             'AS': [4.791946308724833],\n",
       "             'B6': [15.436042514172014],\n",
       "             'DL': [1.87935038212816, 16.671074821546632],\n",
       "             'EV': [-6.0],\n",
       "             'HA': [6.985915492957746],\n",
       "             'OO': [3.4124761904761898],\n",
       "             'VX': [15.774235367281722],\n",
       "             'WN': [11.42961612227107]})"
      ]
     },
     "execution_count": 82,
     "metadata": {},
     "output_type": "execute_result"
    }
   ],
   "source": []
  },
  {
   "cell_type": "code",
   "execution_count": null,
   "metadata": {},
   "outputs": [],
   "source": []
  }
 ],
 "metadata": {
  "kernelspec": {
   "display_name": "Python 2",
   "language": "python",
   "name": "python2"
  },
  "language_info": {
   "codemirror_mode": {
    "name": "ipython",
    "version": 2
   },
   "file_extension": ".py",
   "mimetype": "text/x-python",
   "name": "python",
   "nbconvert_exporter": "python",
   "pygments_lexer": "ipython2",
   "version": "2.7.14"
  }
 },
 "nbformat": 4,
 "nbformat_minor": 2
}

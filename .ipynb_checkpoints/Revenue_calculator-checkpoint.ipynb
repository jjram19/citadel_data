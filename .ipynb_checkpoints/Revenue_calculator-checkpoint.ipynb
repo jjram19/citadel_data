{
 "cells": [
  {
   "cell_type": "code",
   "execution_count": 33,
   "metadata": {},
   "outputs": [],
   "source": [
    "import csv\n",
    "import numpy as np\n",
    "from collections import defaultdict"
   ]
  },
  {
   "cell_type": "code",
   "execution_count": 34,
   "metadata": {},
   "outputs": [],
   "source": [
    "quarter, airline_id, origin_airport, destination_airport, distance = 0, 1, 2, 3, 4"
   ]
  },
  {
   "cell_type": "code",
   "execution_count": 40,
   "metadata": {},
   "outputs": [
    {
     "ename": "ValueError",
     "evalue": "need more than 4 values to unpack",
     "output_type": "error",
     "traceback": [
      "\u001b[0;31m---------------------------------------------------------------------------\u001b[0m",
      "\u001b[0;31mValueError\u001b[0m                                Traceback (most recent call last)",
      "\u001b[0;32m<ipython-input-40-48803f2c17a2>\u001b[0m in \u001b[0;36m<module>\u001b[0;34m()\u001b[0m\n\u001b[1;32m     14\u001b[0m     \u001b[0mcsv_data\u001b[0m \u001b[0;34m=\u001b[0m \u001b[0;34m[\u001b[0m\u001b[0;34m]\u001b[0m\u001b[0;34m\u001b[0m\u001b[0m\n\u001b[1;32m     15\u001b[0m     \u001b[0mcsv_data\u001b[0m\u001b[0;34m.\u001b[0m\u001b[0mappend\u001b[0m\u001b[0;34m(\u001b[0m\u001b[0;34m[\u001b[0m\u001b[0;34m'Quarter'\u001b[0m\u001b[0;34m,\u001b[0m \u001b[0;34m'Airline'\u001b[0m\u001b[0;34m,\u001b[0m \u001b[0;34m'Origin'\u001b[0m\u001b[0;34m,\u001b[0m \u001b[0;34m'Destination'\u001b[0m\u001b[0;34m]\u001b[0m\u001b[0;34m)\u001b[0m\u001b[0;34m\u001b[0m\u001b[0m\n\u001b[0;32m---> 16\u001b[0;31m     \u001b[0;32mfor\u001b[0m \u001b[0mquarter\u001b[0m\u001b[0;34m,\u001b[0m \u001b[0mairline\u001b[0m\u001b[0;34m,\u001b[0m \u001b[0morigin\u001b[0m\u001b[0;34m,\u001b[0m \u001b[0mdestination\u001b[0m\u001b[0;34m,\u001b[0m \u001b[0mrevenue\u001b[0m \u001b[0;32min\u001b[0m \u001b[0mrevenue_map\u001b[0m\u001b[0;34m:\u001b[0m\u001b[0;34m\u001b[0m\u001b[0m\n\u001b[0m\u001b[1;32m     17\u001b[0m         \u001b[0;31m#quarter, airline, origin, destination = key[0], key[1], key[2], key[3]\u001b[0m\u001b[0;34m\u001b[0m\u001b[0;34m\u001b[0m\u001b[0m\n\u001b[1;32m     18\u001b[0m         \u001b[0mcsv_data\u001b[0m\u001b[0;34m.\u001b[0m\u001b[0mappend\u001b[0m\u001b[0;34m(\u001b[0m\u001b[0;34m[\u001b[0m\u001b[0mquarter\u001b[0m\u001b[0;34m,\u001b[0m \u001b[0mairline\u001b[0m\u001b[0;34m,\u001b[0m \u001b[0morigin\u001b[0m\u001b[0;34m,\u001b[0m \u001b[0mdestination\u001b[0m\u001b[0;34m,\u001b[0m \u001b[0mrevenue\u001b[0m\u001b[0;34m]\u001b[0m\u001b[0;34m)\u001b[0m\u001b[0;34m\u001b[0m\u001b[0m\n",
      "\u001b[0;31mValueError\u001b[0m: need more than 4 values to unpack"
     ]
    }
   ],
   "source": [
    "with open(\"/Users/charlesvidrine/data/fares.csv\") as fares:\n",
    "    reader = csv.reader(fares)\n",
    "    headers = next(reader)\n",
    "    revenue_map = defaultdict(int)\n",
    "    for row in reader:\n",
    "        airline_route_tuple = tuple((row[quarter], row[airline_id], row[origin_airport], row[destination_airport]))\n",
    "        multiplier = 0\n",
    "        total_revenue = 0\n",
    "        for x in range(5, len(row)):\n",
    "            multiplier+=10\n",
    "            total_revenue+=int(row[x])*multiplier\n",
    "        revenue_map[airline_route_tuple] = total_revenue\n",
    "        \n",
    "    csv_data = []\n",
    "    csv_data.append(['Quarter', 'Airline', 'Origin', 'Destination'])\n",
    "    for key, revenue in revenue_map:\n",
    "        quarter, airline, origin, destination = key[0], key[1], key[2], key[3]\n",
    "        csv_data.append([quarter, airline, origin, destination, revenue])\n",
    "    with open(\"revenue.csv\", 'w') as revenue:\n",
    "        writer = csv.writer(revenue)\n",
    "        for row in csv_data:\n",
    "            print row\n",
    "            writer.writerow(row)\n",
    "    "
   ]
  },
  {
   "cell_type": "code",
   "execution_count": null,
   "metadata": {},
   "outputs": [],
   "source": []
  }
 ],
 "metadata": {
  "kernelspec": {
   "display_name": "Python 2",
   "language": "python",
   "name": "python2"
  },
  "language_info": {
   "codemirror_mode": {
    "name": "ipython",
    "version": 2
   },
   "file_extension": ".py",
   "mimetype": "text/x-python",
   "name": "python",
   "nbconvert_exporter": "python",
   "pygments_lexer": "ipython2",
   "version": "2.7.14"
  }
 },
 "nbformat": 4,
 "nbformat_minor": 2
}
